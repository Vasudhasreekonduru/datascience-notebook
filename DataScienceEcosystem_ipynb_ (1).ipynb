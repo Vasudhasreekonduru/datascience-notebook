{
  "cells": [
    {
      "cell_type": "code",
      "execution_count": null,
      "metadata": {
        "id": "66pFGT0jFOMx"
      },
      "outputs": [],
      "source": [
        "\n",
        "[Notebook Title: DataScienceEcosystem.ipynb]\n",
        "# Data Science Tools and Ecosystem\n",
        "In this notebook, Data Science Tools and Ecosystem are summarized.\n",
        "## Objectives:\n",
        "- List popular languages for Data Science\n",
        "- List commonly used libraries\n",
        "- Show example of evaluating arithmetic expressions\n",
        "- Create a table of tools\n",
        "- Convert minutes to hours using code\n",
        "### Some of the popular languages that Data Scientists use are:\n",
        "1. Python\n",
        "2. R\n",
        "3. SQL\n",
        "4. Julia\n",
        "### Some of the commonly used libraries used by Data Scientists include:\n",
        "1. Pandas\n",
        "2. NumPy\n",
        "3. Matplotlib\n",
        "4. Scikit-learn\n",
        "## Data Science Tools\n",
        "| Data Science Tools |\n",
        "|--------------------|\n",
        "| Jupyter Notebook   |\n",
        "| RStudio            |\n",
        "| Apache Zeppelin    |\n",
        "# This is a simple arithmetic expression to multiply then add integers\n",
        "(3 * 4) + 5\n",
        "# This will convert 200 minutes to hours by dividing by 60\n",
        "200 / 60\n",
        "## Author\n",
        "Vasudha Sree Konduru\n"
      ]
    }
  ],
  "metadata": {
    "colab": {
      "provenance": []
    },
    "kernelspec": {
      "display_name": "Python 3",
      "name": "python3"
    },
    "language_info": {
      "name": "python"
    }
  },
  "nbformat": 4,
  "nbformat_minor": 0
}
